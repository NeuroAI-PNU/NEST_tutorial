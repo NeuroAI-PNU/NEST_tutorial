{
 "cells": [
  {
   "cell_type": "code",
   "execution_count": 1,
   "metadata": {},
   "outputs": [
    {
     "name": "stdout",
     "output_type": "stream",
     "text": [
      "\n",
      "              -- N E S T --\n",
      "  Copyright (C) 2004 The NEST Initiative\n",
      "\n",
      " Version: 3.8.0\n",
      " Built: Aug  5 2024 06:09:47\n",
      "\n",
      " This program is provided AS IS and comes with\n",
      " NO WARRANTY. See the file LICENSE for details.\n",
      "\n",
      " Problems or suggestions?\n",
      "   Visit https://www.nest-simulator.org\n",
      "\n",
      " Type 'nest.help()' to find out more about NEST.\n",
      "\n"
     ]
    },
    {
     "name": "stderr",
     "output_type": "stream",
     "text": [
      "hwloc/linux: Ignoring PCI device with non-16bit domain.\n",
      "Pass --enable-32bits-pci-domain to configure to support such devices\n",
      "(warning: it would break the library ABI, don't enable unless really needed).\n",
      "Authorization required, but no authorization protocol specified\n",
      "Authorization required, but no authorization protocol specified\n",
      "Authorization required, but no authorization protocol specified\n",
      "Authorization required, but no authorization protocol specified\n",
      "hwloc/linux: Ignoring PCI device with non-16bit domain.\n",
      "Pass --enable-32bits-pci-domain to configure to support such devices\n",
      "(warning: it would break the library ABI, don't enable unless really needed).\n",
      "Authorization required, but no authorization protocol specified\n",
      "\n",
      "Authorization required, but no authorization protocol specified\n",
      "\n"
     ]
    }
   ],
   "source": [
    "import nest"
   ]
  },
  {
   "cell_type": "code",
   "execution_count": 2,
   "metadata": {},
   "outputs": [
    {
     "name": "stdout",
     "output_type": "stream",
     "text": [
      "PyNEST - Python interface for the NEST Simulator\n",
      "\n",
      "* ``nest.helpdesk()`` opens the NEST documentation in your browser.\n",
      "\n",
      "* ``nest.__version__`` displays the NEST version.\n",
      "\n",
      "* ``nest.node_models`` shows all available neuron and device models.\n",
      "\n",
      "* ``nest.synapse_models`` shows all available synapse models.\n",
      "\n",
      "* To get details on the model equations and parameters,\n",
      "  please check out our model documentation at https://nest-simulator.readthedocs.io/en/stable/models/index.html.\n",
      "\n",
      "* To get help on functions in the ``nest`` package, use Python's\n",
      "  ``help()`` function or IPython's ``?``, e.g.\n",
      "     - ``help(nest.Create)``\n",
      "     - ``nest.Connect?``\n",
      "\n",
      "For more information visit https://www.nest-simulator.org.\n",
      "\n"
     ]
    }
   ],
   "source": [
    "nest.help()"
   ]
  },
  {
   "cell_type": "code",
   "execution_count": 3,
   "metadata": {},
   "outputs": [
    {
     "data": {
      "text/plain": [
       "['Cleanup',\n",
       " 'CollocatedSynapses',\n",
       " 'Compartments',\n",
       " 'Connect',\n",
       " 'ConnectionRules',\n",
       " 'CopyModel',\n",
       " 'Create',\n",
       " 'CreateMask',\n",
       " 'CreateParameter',\n",
       " 'DisableStructuralPlasticity',\n",
       " 'Disconnect',\n",
       " 'Displacement',\n",
       " 'Distance',\n",
       " 'DumpLayerConnections',\n",
       " 'DumpLayerNodes',\n",
       " 'EnableStructuralPlasticity',\n",
       " 'FindCenterElement',\n",
       " 'FindNearestElement',\n",
       " 'GetConnections',\n",
       " 'GetDefaults',\n",
       " 'GetKernelStatus',\n",
       " 'GetLocalNodeCollection',\n",
       " 'GetLocalVPs',\n",
       " 'GetNodes',\n",
       " 'GetPosition',\n",
       " 'GetSourceNodes',\n",
       " 'GetSourcePositions',\n",
       " 'GetStatus',\n",
       " 'GetTargetNodes',\n",
       " 'GetTargetPositions',\n",
       " 'Install',\n",
       " 'Mask',\n",
       " 'Models',\n",
       " 'NESTError',\n",
       " 'NESTErrors',\n",
       " 'NESTMappedException',\n",
       " 'NestModule',\n",
       " 'NodeCollection',\n",
       " 'NumProcesses',\n",
       " 'Parameter',\n",
       " 'PlotLayer',\n",
       " 'PlotProbabilityParameter',\n",
       " 'PlotSources',\n",
       " 'PlotTargets',\n",
       " 'Prepare',\n",
       " 'PrintNodes',\n",
       " 'Rank',\n",
       " 'Receptors',\n",
       " 'ResetKernel',\n",
       " 'Run',\n",
       " 'RunManager',\n",
       " 'SelectNodesByMask',\n",
       " 'SetAcceptableLatency',\n",
       " 'SetDefaults',\n",
       " 'SetKernelStatus',\n",
       " 'SetMaxBuffered',\n",
       " 'SetStatus',\n",
       " 'Simulate',\n",
       " 'SonataNetwork',\n",
       " 'SynapseCollection',\n",
       " 'SyncProcesses',\n",
       " 'T_max',\n",
       " 'T_min',\n",
       " 'TripartiteConnect',\n",
       " '__all__',\n",
       " '__builtins__',\n",
       " '__cached__',\n",
       " '__doc__',\n",
       " '__file__',\n",
       " '__loader__',\n",
       " '__name__',\n",
       " '__package__',\n",
       " '__path__',\n",
       " '__spec__',\n",
       " '__version__',\n",
       " 'adaptive_target_buffers',\n",
       " 'authors',\n",
       " 'biological_time',\n",
       " 'buffer_size_spike_data',\n",
       " 'buffer_size_target_data',\n",
       " 'connection_rules',\n",
       " 'data_path',\n",
       " 'data_prefix',\n",
       " 'dict_miss_is_error',\n",
       " 'eprop_learning_window',\n",
       " 'eprop_reset_neurons_on_update',\n",
       " 'eprop_update_interval',\n",
       " 'get',\n",
       " 'get_argv',\n",
       " 'get_verbosity',\n",
       " 'growth_curves',\n",
       " 'growth_factor_buffer_target_data',\n",
       " 'help',\n",
       " 'helpdesk',\n",
       " 'keep_source_table',\n",
       " 'kernel',\n",
       " 'kernel_status',\n",
       " 'll_api',\n",
       " 'local_num_threads',\n",
       " 'local_spike_counter',\n",
       " 'logic',\n",
       " 'math',\n",
       " 'max_buffer_size_target_data',\n",
       " 'max_delay',\n",
       " 'max_num_syn_models',\n",
       " 'max_update_time',\n",
       " 'message',\n",
       " 'min_delay',\n",
       " 'min_update_time',\n",
       " 'ms_per_tic',\n",
       " 'network_size',\n",
       " 'node_models',\n",
       " 'num_connections',\n",
       " 'num_processes',\n",
       " 'off_grid_spiking',\n",
       " 'overwrite_files',\n",
       " 'print_time',\n",
       " 'random',\n",
       " 'raster_plot',\n",
       " 'recording_backends',\n",
       " 'recv_buffer_size_secondary_events',\n",
       " 'resolution',\n",
       " 'rng_seed',\n",
       " 'rng_type',\n",
       " 'rng_types',\n",
       " 'send_buffer_size_secondary_events',\n",
       " 'serialize_data',\n",
       " 'server',\n",
       " 'set',\n",
       " 'set_communicator',\n",
       " 'set_verbosity',\n",
       " 'spatial',\n",
       " 'spatial_distributions',\n",
       " 'spike_buffer_grow_extra',\n",
       " 'spike_buffer_resize_log',\n",
       " 'spike_buffer_shrink_limit',\n",
       " 'spike_buffer_shrink_spare',\n",
       " 'stimulation_backends',\n",
       " 'structural_plasticity_synapses',\n",
       " 'structural_plasticity_update_interval',\n",
       " 'synapse_models',\n",
       " 'sysinfo',\n",
       " 'tics_per_ms',\n",
       " 'tics_per_step',\n",
       " 'to_do',\n",
       " 'to_json',\n",
       " 'total_num_virtual_procs',\n",
       " 'update_time_limit',\n",
       " 'use_compressed_spikes',\n",
       " 'use_wfr',\n",
       " 'userdict',\n",
       " 'visualization',\n",
       " 'voltage_trace',\n",
       " 'wfr_comm_interval',\n",
       " 'wfr_interpolation_order',\n",
       " 'wfr_max_iterations',\n",
       " 'wfr_tol']"
      ]
     },
     "execution_count": 3,
     "metadata": {},
     "output_type": "execute_result"
    }
   ],
   "source": [
    "dir(nest)"
   ]
  },
  {
   "cell_type": "code",
   "execution_count": 4,
   "metadata": {},
   "outputs": [],
   "source": [
    "import matplotlib.pyplot as plt\n",
    "import nest\n",
    "neuron = nest.Create(\"iaf_psc_alpha\")"
   ]
  },
  {
   "cell_type": "code",
   "execution_count": 5,
   "metadata": {},
   "outputs": [
    {
     "data": {
      "text/plain": [
       "{'archiver_length': 0,\n",
       " 'beta_Ca': 0.001,\n",
       " 'C_m': 250.0,\n",
       " 'Ca': 0.0,\n",
       " 'E_L': -70.0,\n",
       " 'element_type': 'neuron',\n",
       " 'frozen': False,\n",
       " 'global_id': 1,\n",
       " 'I_e': 0.0,\n",
       " 'local': True,\n",
       " 'model': 'iaf_psc_alpha',\n",
       " 'model_id': 50,\n",
       " 'node_uses_wfr': False,\n",
       " 'post_trace': 0.0,\n",
       " 'recordables': ('I_syn_ex', 'I_syn_in', 'V_m'),\n",
       " 'synaptic_elements': {},\n",
       " 't_ref': 2.0,\n",
       " 't_spike': -1.0,\n",
       " 'tau_Ca': 10000.0,\n",
       " 'tau_m': 10.0,\n",
       " 'tau_minus': 20.0,\n",
       " 'tau_minus_triplet': 110.0,\n",
       " 'tau_syn_ex': 2.0,\n",
       " 'tau_syn_in': 2.0,\n",
       " 'thread': 0,\n",
       " 'thread_local_id': -1,\n",
       " 'V_m': -70.0,\n",
       " 'V_min': -inf,\n",
       " 'V_reset': -70.0,\n",
       " 'V_th': -55.0,\n",
       " 'vp': 0}"
      ]
     },
     "execution_count": 5,
     "metadata": {},
     "output_type": "execute_result"
    }
   ],
   "source": [
    "neuron.get()"
   ]
  },
  {
   "cell_type": "code",
   "execution_count": 6,
   "metadata": {},
   "outputs": [
    {
     "data": {
      "text/plain": [
       "{'V_reset': -70.0, 'V_th': -55.0}"
      ]
     },
     "execution_count": 6,
     "metadata": {},
     "output_type": "execute_result"
    }
   ],
   "source": [
    "neuron.get(\"I_e\")\n",
    "neuron.get([\"V_reset\", \"V_th\"])"
   ]
  },
  {
   "cell_type": "code",
   "execution_count": 8,
   "metadata": {},
   "outputs": [],
   "source": [
    "neuron.set(I_e=376.0)"
   ]
  },
  {
   "cell_type": "code",
   "execution_count": 9,
   "metadata": {},
   "outputs": [],
   "source": [
    "neuron.set({\"I_e\": 376})"
   ]
  },
  {
   "cell_type": "code",
   "execution_count": 10,
   "metadata": {},
   "outputs": [
    {
     "data": {
      "text/plain": [
       "376.0"
      ]
     },
     "execution_count": 10,
     "metadata": {},
     "output_type": "execute_result"
    }
   ],
   "source": [
    "neuron.I_e = 376.0\n",
    "neuron.I_e"
   ]
  },
  {
   "cell_type": "code",
   "execution_count": 11,
   "metadata": {},
   "outputs": [],
   "source": [
    "multimeter = nest.Create(\"multimeter\")\n",
    "multimeter.set(record_from=[\"V_m\"])"
   ]
  },
  {
   "cell_type": "code",
   "execution_count": 12,
   "metadata": {},
   "outputs": [],
   "source": [
    "spikerecorder = nest.Create(\"spike_recorder\")"
   ]
  },
  {
   "cell_type": "code",
   "execution_count": 17,
   "metadata": {},
   "outputs": [
    {
     "ename": "NESTErrors.IllegalConnection",
     "evalue": "IllegalConnection in SLI function Connect_g_g_D_D: Creation of connection is not possible because:\nEach multimeter can only be connected once to a given node.",
     "output_type": "error",
     "traceback": [
      "\u001b[0;31m---------------------------------------------------------------------------\u001b[0m",
      "\u001b[0;31mNESTErrors.IllegalConnection\u001b[0m              Traceback (most recent call last)",
      "Cell \u001b[0;32mIn[17], line 1\u001b[0m\n\u001b[0;32m----> 1\u001b[0m \u001b[43mnest\u001b[49m\u001b[38;5;241;43m.\u001b[39;49m\u001b[43mConnect\u001b[49m\u001b[43m(\u001b[49m\u001b[43mmultimeter\u001b[49m\u001b[43m,\u001b[49m\u001b[43m \u001b[49m\u001b[43mneuron\u001b[49m\u001b[43m)\u001b[49m\n\u001b[1;32m      2\u001b[0m nest\u001b[38;5;241m.\u001b[39mConnect(neuron, spikerecorder)\n",
      "File \u001b[0;32m/usr/lib/python3.10/site-packages/nest/ll_api.py:216\u001b[0m, in \u001b[0;36mstack_checker.<locals>.stack_checker_func\u001b[0;34m(*args, **kwargs)\u001b[0m\n\u001b[1;32m    213\u001b[0m \u001b[38;5;129m@functools\u001b[39m\u001b[38;5;241m.\u001b[39mwraps(f)\n\u001b[1;32m    214\u001b[0m \u001b[38;5;28;01mdef\u001b[39;00m \u001b[38;5;21mstack_checker_func\u001b[39m(\u001b[38;5;241m*\u001b[39margs, \u001b[38;5;241m*\u001b[39m\u001b[38;5;241m*\u001b[39mkwargs):\n\u001b[1;32m    215\u001b[0m     \u001b[38;5;28;01mif\u001b[39;00m \u001b[38;5;129;01mnot\u001b[39;00m get_debug():\n\u001b[0;32m--> 216\u001b[0m         \u001b[38;5;28;01mreturn\u001b[39;00m \u001b[43mf\u001b[49m\u001b[43m(\u001b[49m\u001b[38;5;241;43m*\u001b[39;49m\u001b[43margs\u001b[49m\u001b[43m,\u001b[49m\u001b[43m \u001b[49m\u001b[38;5;241;43m*\u001b[39;49m\u001b[38;5;241;43m*\u001b[39;49m\u001b[43mkwargs\u001b[49m\u001b[43m)\u001b[49m\n\u001b[1;32m    217\u001b[0m     \u001b[38;5;28;01melse\u001b[39;00m:\n\u001b[1;32m    218\u001b[0m         sr(\u001b[38;5;124m\"\u001b[39m\u001b[38;5;124mcount\u001b[39m\u001b[38;5;124m\"\u001b[39m)\n",
      "File \u001b[0;32m/usr/lib/python3.10/site-packages/nest/lib/hl_api_connections.py:289\u001b[0m, in \u001b[0;36mConnect\u001b[0;34m(pre, post, conn_spec, syn_spec, return_synapsecollection)\u001b[0m\n\u001b[1;32m    287\u001b[0m     \u001b[38;5;28;01mif\u001b[39;00m processed_syn_spec \u001b[38;5;129;01mis\u001b[39;00m \u001b[38;5;129;01mnot\u001b[39;00m \u001b[38;5;28;01mNone\u001b[39;00m:\n\u001b[1;32m    288\u001b[0m         sps(processed_syn_spec)\n\u001b[0;32m--> 289\u001b[0m     \u001b[43msr\u001b[49m\u001b[43m(\u001b[49m\u001b[38;5;124;43m\"\u001b[39;49m\u001b[38;5;124;43mConnect\u001b[39;49m\u001b[38;5;124;43m\"\u001b[39;49m\u001b[43m)\u001b[49m\n\u001b[1;32m    291\u001b[0m \u001b[38;5;28;01mif\u001b[39;00m return_synapsecollection:\n\u001b[1;32m    292\u001b[0m     \u001b[38;5;28;01mreturn\u001b[39;00m GetConnections(pre, post)\n",
      "File \u001b[0;32m/usr/lib/python3.10/site-packages/nest/ll_api.py:103\u001b[0m, in \u001b[0;36mcatching_sli_run\u001b[0;34m(cmd)\u001b[0m\n\u001b[1;32m    100\u001b[0m engine\u001b[38;5;241m.\u001b[39mrun(\u001b[38;5;124m\"\u001b[39m\u001b[38;5;124mclear\u001b[39m\u001b[38;5;124m\"\u001b[39m)\n\u001b[1;32m    102\u001b[0m exceptionCls \u001b[38;5;241m=\u001b[39m \u001b[38;5;28mgetattr\u001b[39m(kernel\u001b[38;5;241m.\u001b[39mNESTErrors, errorname)\n\u001b[0;32m--> 103\u001b[0m \u001b[38;5;28;01mraise\u001b[39;00m exceptionCls(commandname, message)\n",
      "\u001b[0;31mNESTErrors.IllegalConnection\u001b[0m: IllegalConnection in SLI function Connect_g_g_D_D: Creation of connection is not possible because:\nEach multimeter can only be connected once to a given node."
     ]
    }
   ],
   "source": [
    "nest.Connect(multimeter, neuron)\n",
    "nest.Connect(neuron, spikerecorder)"
   ]
  },
  {
   "cell_type": "code",
   "execution_count": 18,
   "metadata": {},
   "outputs": [],
   "source": [
    "# 이미 연결한 multimeter와 neuron을 재연결하지 않습니다.\n",
    "if not nest.GetConnections(multimeter, neuron):\n",
    "    nest.Connect(multimeter, neuron)"
   ]
  },
  {
   "cell_type": "code",
   "execution_count": 19,
   "metadata": {},
   "outputs": [
    {
     "name": "stdout",
     "output_type": "stream",
     "text": [
      "\n",
      "Oct 30 15:38:40 NodeManager::prepare_nodes [Info]: \n",
      "    Preparing 3 nodes for simulation.\n",
      "\n",
      "Oct 30 15:38:40 SimulationManager::start_updating_ [Info]: \n",
      "    Number of local nodes: 3\n",
      "    Simulation time (ms): 1000\n",
      "    Number of OpenMP threads: 1\n",
      "    Number of MPI processes: 1\n",
      "\n",
      "Oct 30 15:38:40 SimulationManager::run [Info]: \n",
      "    Simulation finished.\n"
     ]
    }
   ],
   "source": [
    "nest.Simulate(1000.0)"
   ]
  },
  {
   "cell_type": "code",
   "execution_count": 20,
   "metadata": {},
   "outputs": [],
   "source": [
    "dmm = multimeter.get()\n",
    "Vms = dmm[\"events\"][\"V_m\"]\n",
    "ts = dmm[\"events\"][\"times\"]"
   ]
  },
  {
   "cell_type": "code",
   "execution_count": 21,
   "metadata": {},
   "outputs": [
    {
     "data": {
      "text/plain": [
       "[<matplotlib.lines.Line2D at 0x7e65c016faf0>]"
      ]
     },
     "execution_count": 21,
     "metadata": {},
     "output_type": "execute_result"
    },
    {
     "data": {
      "image/png": "[encoded data removed]",
      "text/plain": [
       "<Figure size 640x480 with 1 Axes>"
      ]
     },
     "metadata": {},
     "output_type": "display_data"
    }
   ],
   "source": [
    "import matplotlib.pyplot as plt\n",
    "plt.figure(1)\n",
    "plt.plot(ts, Vms)"
   ]
  },
  {
   "cell_type": "code",
   "execution_count": 22,
   "metadata": {},
   "outputs": [
    {
     "data": {
      "image/png": "[encoded data removed]",
      "text/plain": [
       "<Figure size 640x480 with 1 Axes>"
      ]
     },
     "metadata": {},
     "output_type": "display_data"
    }
   ],
   "source": [
    "events = spikerecorder.get(\"events\")\n",
    "senders = events[\"senders\"]\n",
    "ts = events[\"times\"]\n",
    "plt.figure(2)\n",
    "plt.plot(ts, senders, \".\")\n",
    "plt.show()"
   ]
  }
 ],
 "metadata": {
  "kernelspec": {
   "display_name": "Doongji",
   "language": "python",
   "name": "python3"
  },
  "language_info": {
   "codemirror_mode": {
    "name": "ipython",
    "version": 3
   },
   "file_extension": ".py",
   "mimetype": "text/x-python",
   "name": "python",
   "nbconvert_exporter": "python",
   "pygments_lexer": "ipython3",
   "version": "3.10.15"
  }
 },
 "nbformat": 4,
 "nbformat_minor": 2
}
